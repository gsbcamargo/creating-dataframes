{
  "nbformat": 4,
  "nbformat_minor": 0,
  "metadata": {
    "colab": {
      "name": "creating-dataframes.ipynb",
      "provenance": []
    },
    "kernelspec": {
      "name": "python3",
      "display_name": "Python 3"
    }
  },
  "cells": [
    {
      "cell_type": "markdown",
      "metadata": {
        "id": "g7hyOqhGLRS1",
        "colab_type": "text"
      },
      "source": [
        "# Creating DataFrames\n",
        "\n",
        "We've learned how to directly import a `csv` file from the internet to a _DataFrame_ structure. When using the function `pd.read('file.csv')`, Pandas  knows how it should behave in order to create a structure formed of rows and columns.\n",
        "\n",
        "However, there's always the possibility of creating a _DataFrame_ by hand."
      ]
    },
    {
      "cell_type": "markdown",
      "metadata": {
        "id": "lELqxWxML7nM",
        "colab_type": "text"
      },
      "source": [
        "## From Dictionary to DataFrame\n",
        "\n",
        "A dictionary is one of the basic Python data structures. It's advisable to create the data in a variable of type `dict`, for the conversion to a _DataFrame_ is pretty straight forward.\n",
        "\n",
        "\n",
        "\n"
      ]
    },
    {
      "cell_type": "code",
      "metadata": {
        "id": "xUg1Ij7VSPEj",
        "colab_type": "code",
        "colab": {}
      },
      "source": [
        "# import pandas\n",
        "import pandas as pd"
      ],
      "execution_count": 1,
      "outputs": []
    },
    {
      "cell_type": "code",
      "metadata": {
        "id": "5hjI-bJjSRwG",
        "colab_type": "code",
        "colab": {}
      },
      "source": [
        "# create dictionary\n",
        "data = {\n",
        "    'name': ['John', 'Beatrice', 'Karl', 'Rachel'],\n",
        "    'age': [33, 14, 10, 48],\n",
        "    'city': ['New York', 'Budapest', 'Alexandria', 'Sao Paulo'],\n",
        "    'bought': [True, False, True, True]\n",
        "}"
      ],
      "execution_count": 3,
      "outputs": []
    },
    {
      "cell_type": "code",
      "metadata": {
        "id": "zJ5wb5MtSuFr",
        "colab_type": "code",
        "colab": {}
      },
      "source": [
        "# create DataFrame\n",
        "df = pd.DataFrame(data)"
      ],
      "execution_count": 5,
      "outputs": []
    },
    {
      "cell_type": "code",
      "metadata": {
        "id": "ooWK6JJhV4D3",
        "colab_type": "code",
        "colab": {
          "base_uri": "https://localhost:8080/",
          "height": 175
        },
        "outputId": "87f2748e-5198-45b2-e86f-85794fc6417e"
      },
      "source": [
        "# visualize DataFrame\n",
        "df"
      ],
      "execution_count": 6,
      "outputs": [
        {
          "output_type": "execute_result",
          "data": {
            "text/html": [
              "<div>\n",
              "<style scoped>\n",
              "    .dataframe tbody tr th:only-of-type {\n",
              "        vertical-align: middle;\n",
              "    }\n",
              "\n",
              "    .dataframe tbody tr th {\n",
              "        vertical-align: top;\n",
              "    }\n",
              "\n",
              "    .dataframe thead th {\n",
              "        text-align: right;\n",
              "    }\n",
              "</style>\n",
              "<table border=\"1\" class=\"dataframe\">\n",
              "  <thead>\n",
              "    <tr style=\"text-align: right;\">\n",
              "      <th></th>\n",
              "      <th>name</th>\n",
              "      <th>age</th>\n",
              "      <th>city</th>\n",
              "      <th>bought</th>\n",
              "    </tr>\n",
              "  </thead>\n",
              "  <tbody>\n",
              "    <tr>\n",
              "      <th>0</th>\n",
              "      <td>John</td>\n",
              "      <td>33</td>\n",
              "      <td>New York</td>\n",
              "      <td>True</td>\n",
              "    </tr>\n",
              "    <tr>\n",
              "      <th>1</th>\n",
              "      <td>Beatrice</td>\n",
              "      <td>14</td>\n",
              "      <td>Budapest</td>\n",
              "      <td>False</td>\n",
              "    </tr>\n",
              "    <tr>\n",
              "      <th>2</th>\n",
              "      <td>Karl</td>\n",
              "      <td>10</td>\n",
              "      <td>Alexandria</td>\n",
              "      <td>True</td>\n",
              "    </tr>\n",
              "    <tr>\n",
              "      <th>3</th>\n",
              "      <td>Rachel</td>\n",
              "      <td>48</td>\n",
              "      <td>Sao Paulo</td>\n",
              "      <td>True</td>\n",
              "    </tr>\n",
              "  </tbody>\n",
              "</table>\n",
              "</div>"
            ],
            "text/plain": [
              "       name  age        city  bought\n",
              "0      John   33    New York    True\n",
              "1  Beatrice   14    Budapest   False\n",
              "2      Karl   10  Alexandria    True\n",
              "3    Rachel   48   Sao Paulo    True"
            ]
          },
          "metadata": {
            "tags": []
          },
          "execution_count": 6
        }
      ]
    },
    {
      "cell_type": "code",
      "metadata": {
        "id": "V6Xi7l_1V_jl",
        "colab_type": "code",
        "colab": {}
      },
      "source": [
        "# creating user id\n",
        "user_id = [354, 856, 487, 591]"
      ],
      "execution_count": 8,
      "outputs": []
    },
    {
      "cell_type": "code",
      "metadata": {
        "id": "XK2Z2TSocvug",
        "colab_type": "code",
        "colab": {}
      },
      "source": [
        "# associating user id to list index\n",
        "df.index = user_id"
      ],
      "execution_count": 9,
      "outputs": []
    },
    {
      "cell_type": "code",
      "metadata": {
        "id": "fp2oHR_hc5oP",
        "colab_type": "code",
        "colab": {
          "base_uri": "https://localhost:8080/",
          "height": 175
        },
        "outputId": "c00ca9b6-13a4-48f8-9a96-ccb4fd8203af"
      },
      "source": [
        "# visualize DataFrame\n",
        "df"
      ],
      "execution_count": 11,
      "outputs": [
        {
          "output_type": "execute_result",
          "data": {
            "text/html": [
              "<div>\n",
              "<style scoped>\n",
              "    .dataframe tbody tr th:only-of-type {\n",
              "        vertical-align: middle;\n",
              "    }\n",
              "\n",
              "    .dataframe tbody tr th {\n",
              "        vertical-align: top;\n",
              "    }\n",
              "\n",
              "    .dataframe thead th {\n",
              "        text-align: right;\n",
              "    }\n",
              "</style>\n",
              "<table border=\"1\" class=\"dataframe\">\n",
              "  <thead>\n",
              "    <tr style=\"text-align: right;\">\n",
              "      <th></th>\n",
              "      <th>name</th>\n",
              "      <th>age</th>\n",
              "      <th>city</th>\n",
              "      <th>bought</th>\n",
              "    </tr>\n",
              "  </thead>\n",
              "  <tbody>\n",
              "    <tr>\n",
              "      <th>354</th>\n",
              "      <td>John</td>\n",
              "      <td>33</td>\n",
              "      <td>New York</td>\n",
              "      <td>True</td>\n",
              "    </tr>\n",
              "    <tr>\n",
              "      <th>856</th>\n",
              "      <td>Beatrice</td>\n",
              "      <td>14</td>\n",
              "      <td>Budapest</td>\n",
              "      <td>False</td>\n",
              "    </tr>\n",
              "    <tr>\n",
              "      <th>487</th>\n",
              "      <td>Karl</td>\n",
              "      <td>10</td>\n",
              "      <td>Alexandria</td>\n",
              "      <td>True</td>\n",
              "    </tr>\n",
              "    <tr>\n",
              "      <th>591</th>\n",
              "      <td>Rachel</td>\n",
              "      <td>48</td>\n",
              "      <td>Sao Paulo</td>\n",
              "      <td>True</td>\n",
              "    </tr>\n",
              "  </tbody>\n",
              "</table>\n",
              "</div>"
            ],
            "text/plain": [
              "         name  age        city  bought\n",
              "354      John   33    New York    True\n",
              "856  Beatrice   14    Budapest   False\n",
              "487      Karl   10  Alexandria    True\n",
              "591    Rachel   48   Sao Paulo    True"
            ]
          },
          "metadata": {
            "tags": []
          },
          "execution_count": 11
        }
      ]
    },
    {
      "cell_type": "markdown",
      "metadata": {
        "id": "-U5sDnOUdOYF",
        "colab_type": "text"
      },
      "source": [
        "## From Lists to DataFrame\n",
        "\n",
        "Lists are, arguably, the most common data structure used in Python. Therefore, it's not uncommon to have _DataFrames_ created from these.\n",
        "\n",
        "The built-in function `zip()` can be used in order to better organize the Lists in a way that facilitates the conversion to a _DataFrame_."
      ]
    },
    {
      "cell_type": "code",
      "metadata": {
        "id": "4k3lsDwNevlF",
        "colab_type": "code",
        "colab": {
          "base_uri": "https://localhost:8080/",
          "height": 175
        },
        "outputId": "dc82a47e-decf-46af-aaa1-991b4a0c0744"
      },
      "source": [
        "# lists\n",
        "\n",
        "data = [['John', 33, 'New York', True],\n",
        "        ['Beatrice', 14, 'Budapest', False],\n",
        "        ['Karl', 10, 'Alexandria', True],\n",
        "        ['Rachel', 48, 'Sao Paulo', True]]\n",
        "\n",
        "# create DataFrame and name the columns, \n",
        "# or default values (0, 1, 2, ...) are set\n",
        "df = pd.DataFrame(data, columns=['name', 'age', 'city', 'bought'],\n",
        "                  index=[354, 856, 487, 591])\n",
        "\n",
        "# visualize it\n",
        "df"
      ],
      "execution_count": 46,
      "outputs": [
        {
          "output_type": "execute_result",
          "data": {
            "text/html": [
              "<div>\n",
              "<style scoped>\n",
              "    .dataframe tbody tr th:only-of-type {\n",
              "        vertical-align: middle;\n",
              "    }\n",
              "\n",
              "    .dataframe tbody tr th {\n",
              "        vertical-align: top;\n",
              "    }\n",
              "\n",
              "    .dataframe thead th {\n",
              "        text-align: right;\n",
              "    }\n",
              "</style>\n",
              "<table border=\"1\" class=\"dataframe\">\n",
              "  <thead>\n",
              "    <tr style=\"text-align: right;\">\n",
              "      <th></th>\n",
              "      <th>name</th>\n",
              "      <th>age</th>\n",
              "      <th>city</th>\n",
              "      <th>bought</th>\n",
              "    </tr>\n",
              "  </thead>\n",
              "  <tbody>\n",
              "    <tr>\n",
              "      <th>354</th>\n",
              "      <td>John</td>\n",
              "      <td>33</td>\n",
              "      <td>New York</td>\n",
              "      <td>True</td>\n",
              "    </tr>\n",
              "    <tr>\n",
              "      <th>856</th>\n",
              "      <td>Beatrice</td>\n",
              "      <td>14</td>\n",
              "      <td>Budapest</td>\n",
              "      <td>False</td>\n",
              "    </tr>\n",
              "    <tr>\n",
              "      <th>487</th>\n",
              "      <td>Karl</td>\n",
              "      <td>10</td>\n",
              "      <td>Alexandria</td>\n",
              "      <td>True</td>\n",
              "    </tr>\n",
              "    <tr>\n",
              "      <th>591</th>\n",
              "      <td>Rachel</td>\n",
              "      <td>48</td>\n",
              "      <td>Sao Paulo</td>\n",
              "      <td>True</td>\n",
              "    </tr>\n",
              "  </tbody>\n",
              "</table>\n",
              "</div>"
            ],
            "text/plain": [
              "         name  age        city  bought\n",
              "354      John   33    New York    True\n",
              "856  Beatrice   14    Budapest   False\n",
              "487      Karl   10  Alexandria    True\n",
              "591    Rachel   48   Sao Paulo    True"
            ]
          },
          "metadata": {
            "tags": []
          },
          "execution_count": 46
        }
      ]
    },
    {
      "cell_type": "code",
      "metadata": {
        "id": "Y2Wev2T1gGhi",
        "colab_type": "code",
        "colab": {
          "base_uri": "https://localhost:8080/",
          "height": 109
        },
        "outputId": "f18a60a1-e6c3-461b-eb6e-b09f1f747410"
      },
      "source": [
        "# select a row by index\n",
        "df.loc[487]"
      ],
      "execution_count": 47,
      "outputs": [
        {
          "output_type": "execute_result",
          "data": {
            "text/plain": [
              "name            Karl\n",
              "age               10\n",
              "city      Alexandria\n",
              "bought          True\n",
              "Name: 487, dtype: object"
            ]
          },
          "metadata": {
            "tags": []
          },
          "execution_count": 47
        }
      ]
    },
    {
      "cell_type": "markdown",
      "metadata": {
        "id": "oUEuGM5Hg8wp",
        "colab_type": "text"
      },
      "source": [
        "## Inserting new columns\n",
        "\n",
        "An extremely convenient way to create and insert new columns in the _DataFrame_ is using a Panda functionality known as _broadcasting_.\n",
        "\n",
        "When a new column name is set and a new value for the column is declared, that information is replicated along the rows of the _DataFrame_."
      ]
    },
    {
      "cell_type": "code",
      "metadata": {
        "id": "3647Rqvlh4B2",
        "colab_type": "code",
        "colab": {
          "base_uri": "https://localhost:8080/",
          "height": 175
        },
        "outputId": "76274bb3-b242-4fbd-a976-df5c435b8180"
      },
      "source": [
        "# creating 'balance' column and setting it's value to float 0.0\n",
        "df['balance'] = 0.0\n",
        "\n",
        "# visualize it\n",
        "df"
      ],
      "execution_count": 48,
      "outputs": [
        {
          "output_type": "execute_result",
          "data": {
            "text/html": [
              "<div>\n",
              "<style scoped>\n",
              "    .dataframe tbody tr th:only-of-type {\n",
              "        vertical-align: middle;\n",
              "    }\n",
              "\n",
              "    .dataframe tbody tr th {\n",
              "        vertical-align: top;\n",
              "    }\n",
              "\n",
              "    .dataframe thead th {\n",
              "        text-align: right;\n",
              "    }\n",
              "</style>\n",
              "<table border=\"1\" class=\"dataframe\">\n",
              "  <thead>\n",
              "    <tr style=\"text-align: right;\">\n",
              "      <th></th>\n",
              "      <th>name</th>\n",
              "      <th>age</th>\n",
              "      <th>city</th>\n",
              "      <th>bought</th>\n",
              "      <th>balance</th>\n",
              "    </tr>\n",
              "  </thead>\n",
              "  <tbody>\n",
              "    <tr>\n",
              "      <th>354</th>\n",
              "      <td>John</td>\n",
              "      <td>33</td>\n",
              "      <td>New York</td>\n",
              "      <td>True</td>\n",
              "      <td>0.0</td>\n",
              "    </tr>\n",
              "    <tr>\n",
              "      <th>856</th>\n",
              "      <td>Beatrice</td>\n",
              "      <td>14</td>\n",
              "      <td>Budapest</td>\n",
              "      <td>False</td>\n",
              "      <td>0.0</td>\n",
              "    </tr>\n",
              "    <tr>\n",
              "      <th>487</th>\n",
              "      <td>Karl</td>\n",
              "      <td>10</td>\n",
              "      <td>Alexandria</td>\n",
              "      <td>True</td>\n",
              "      <td>0.0</td>\n",
              "    </tr>\n",
              "    <tr>\n",
              "      <th>591</th>\n",
              "      <td>Rachel</td>\n",
              "      <td>48</td>\n",
              "      <td>Sao Paulo</td>\n",
              "      <td>True</td>\n",
              "      <td>0.0</td>\n",
              "    </tr>\n",
              "  </tbody>\n",
              "</table>\n",
              "</div>"
            ],
            "text/plain": [
              "         name  age        city  bought  balance\n",
              "354      John   33    New York    True      0.0\n",
              "856  Beatrice   14    Budapest   False      0.0\n",
              "487      Karl   10  Alexandria    True      0.0\n",
              "591    Rachel   48   Sao Paulo    True      0.0"
            ]
          },
          "metadata": {
            "tags": []
          },
          "execution_count": 48
        }
      ]
    },
    {
      "cell_type": "markdown",
      "metadata": {
        "id": "ffadVzIWi119",
        "colab_type": "text"
      },
      "source": [
        "## Modifying rows indexes and columns labels\n",
        "\n",
        "Sometimes there's the need of modifying the rows indexes and/or the columns labels. By looking at the code above, it's known that in the left portion of the _DataFrame_, every row index is represented by a number between 0 and 3.\n",
        "\n",
        "It is possible to modify those values:\n",
        "\n"
      ]
    },
    {
      "cell_type": "code",
      "metadata": {
        "id": "BRNc87Qxj63c",
        "colab_type": "code",
        "colab": {
          "base_uri": "https://localhost:8080/",
          "height": 35
        },
        "outputId": "22063455-64c8-4a24-e2b2-66faf7fbc1f5"
      },
      "source": [
        "df.index"
      ],
      "execution_count": 49,
      "outputs": [
        {
          "output_type": "execute_result",
          "data": {
            "text/plain": [
              "Int64Index([354, 856, 487, 591], dtype='int64')"
            ]
          },
          "metadata": {
            "tags": []
          },
          "execution_count": 49
        }
      ]
    },
    {
      "cell_type": "code",
      "metadata": {
        "id": "e7r2xSpgkA7U",
        "colab_type": "code",
        "colab": {
          "base_uri": "https://localhost:8080/",
          "height": 175
        },
        "outputId": "bc593033-2fc6-4848-94bc-8a316faf7cb1"
      },
      "source": [
        "# non-integer values are also valid indexes\n",
        "df.index = ['a', 'b', 'c', 'd']\n",
        "\n",
        "# visualize it\n",
        "df"
      ],
      "execution_count": 50,
      "outputs": [
        {
          "output_type": "execute_result",
          "data": {
            "text/html": [
              "<div>\n",
              "<style scoped>\n",
              "    .dataframe tbody tr th:only-of-type {\n",
              "        vertical-align: middle;\n",
              "    }\n",
              "\n",
              "    .dataframe tbody tr th {\n",
              "        vertical-align: top;\n",
              "    }\n",
              "\n",
              "    .dataframe thead th {\n",
              "        text-align: right;\n",
              "    }\n",
              "</style>\n",
              "<table border=\"1\" class=\"dataframe\">\n",
              "  <thead>\n",
              "    <tr style=\"text-align: right;\">\n",
              "      <th></th>\n",
              "      <th>name</th>\n",
              "      <th>age</th>\n",
              "      <th>city</th>\n",
              "      <th>bought</th>\n",
              "      <th>balance</th>\n",
              "    </tr>\n",
              "  </thead>\n",
              "  <tbody>\n",
              "    <tr>\n",
              "      <th>a</th>\n",
              "      <td>John</td>\n",
              "      <td>33</td>\n",
              "      <td>New York</td>\n",
              "      <td>True</td>\n",
              "      <td>0.0</td>\n",
              "    </tr>\n",
              "    <tr>\n",
              "      <th>b</th>\n",
              "      <td>Beatrice</td>\n",
              "      <td>14</td>\n",
              "      <td>Budapest</td>\n",
              "      <td>False</td>\n",
              "      <td>0.0</td>\n",
              "    </tr>\n",
              "    <tr>\n",
              "      <th>c</th>\n",
              "      <td>Karl</td>\n",
              "      <td>10</td>\n",
              "      <td>Alexandria</td>\n",
              "      <td>True</td>\n",
              "      <td>0.0</td>\n",
              "    </tr>\n",
              "    <tr>\n",
              "      <th>d</th>\n",
              "      <td>Rachel</td>\n",
              "      <td>48</td>\n",
              "      <td>Sao Paulo</td>\n",
              "      <td>True</td>\n",
              "      <td>0.0</td>\n",
              "    </tr>\n",
              "  </tbody>\n",
              "</table>\n",
              "</div>"
            ],
            "text/plain": [
              "       name  age        city  bought  balance\n",
              "a      John   33    New York    True      0.0\n",
              "b  Beatrice   14    Budapest   False      0.0\n",
              "c      Karl   10  Alexandria    True      0.0\n",
              "d    Rachel   48   Sao Paulo    True      0.0"
            ]
          },
          "metadata": {
            "tags": []
          },
          "execution_count": 50
        }
      ]
    },
    {
      "cell_type": "markdown",
      "metadata": {
        "id": "7YKWdVesomtA",
        "colab_type": "text"
      },
      "source": [
        "In a similar manner, if there's a need to rename the columns, you could modify it by accessing them directly:"
      ]
    },
    {
      "cell_type": "code",
      "metadata": {
        "id": "EXzeG1eaovSK",
        "colab_type": "code",
        "colab": {
          "base_uri": "https://localhost:8080/",
          "height": 175
        },
        "outputId": "40795d16-3dee-4638-b184-2259b7b4e5f9"
      },
      "source": [
        "# modifying columns labels\n",
        "df.columns = ['Client Name', 'Age', 'Place of Birth', 'Bought something?', 'Balance']\n",
        "\n",
        "# visualize it\n",
        "df"
      ],
      "execution_count": 44,
      "outputs": [
        {
          "output_type": "execute_result",
          "data": {
            "text/html": [
              "<div>\n",
              "<style scoped>\n",
              "    .dataframe tbody tr th:only-of-type {\n",
              "        vertical-align: middle;\n",
              "    }\n",
              "\n",
              "    .dataframe tbody tr th {\n",
              "        vertical-align: top;\n",
              "    }\n",
              "\n",
              "    .dataframe thead th {\n",
              "        text-align: right;\n",
              "    }\n",
              "</style>\n",
              "<table border=\"1\" class=\"dataframe\">\n",
              "  <thead>\n",
              "    <tr style=\"text-align: right;\">\n",
              "      <th></th>\n",
              "      <th>Client Name</th>\n",
              "      <th>Age</th>\n",
              "      <th>Place of Birth</th>\n",
              "      <th>Bought something?</th>\n",
              "      <th>Balance</th>\n",
              "    </tr>\n",
              "  </thead>\n",
              "  <tbody>\n",
              "    <tr>\n",
              "      <th>a</th>\n",
              "      <td>John</td>\n",
              "      <td>33</td>\n",
              "      <td>New York</td>\n",
              "      <td>True</td>\n",
              "      <td>0.0</td>\n",
              "    </tr>\n",
              "    <tr>\n",
              "      <th>b</th>\n",
              "      <td>Beatrice</td>\n",
              "      <td>14</td>\n",
              "      <td>Budapest</td>\n",
              "      <td>False</td>\n",
              "      <td>0.0</td>\n",
              "    </tr>\n",
              "    <tr>\n",
              "      <th>c</th>\n",
              "      <td>Karl</td>\n",
              "      <td>10</td>\n",
              "      <td>Alexandria</td>\n",
              "      <td>True</td>\n",
              "      <td>0.0</td>\n",
              "    </tr>\n",
              "    <tr>\n",
              "      <th>d</th>\n",
              "      <td>Rachel</td>\n",
              "      <td>48</td>\n",
              "      <td>Sao Paulo</td>\n",
              "      <td>True</td>\n",
              "      <td>0.0</td>\n",
              "    </tr>\n",
              "  </tbody>\n",
              "</table>\n",
              "</div>"
            ],
            "text/plain": [
              "  Client Name  Age Place of Birth  Bought something?  Balance\n",
              "a        John   33       New York               True      0.0\n",
              "b    Beatrice   14       Budapest              False      0.0\n",
              "c        Karl   10     Alexandria               True      0.0\n",
              "d      Rachel   48      Sao Paulo               True      0.0"
            ]
          },
          "metadata": {
            "tags": []
          },
          "execution_count": 44
        }
      ]
    }
  ]
}